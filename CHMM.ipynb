{
 "cells": [
  {
   "cell_type": "code",
   "execution_count": 37,
   "id": "fa4664f3",
   "metadata": {},
   "outputs": [],
   "source": [
    "import torch\n",
    "import numpy as np"
   ]
  },
  {
   "cell_type": "code",
   "execution_count": 85,
   "id": "d0b90aa8",
   "metadata": {},
   "outputs": [],
   "source": [
    "class CHMM:\n",
    "    def __init__(self, num_states, unique_emissions):\n",
    "        self.num_states = num_states\n",
    "        self.emission_to_index_map = {char: idx for idx, char in enumerate(unique_emissions)}\n",
    "        self.num_emissions = len(unique_emissions)\n",
    "        self.transition_probs = np.full((num_states, num_states), 1.0 / num_states)\n",
    "        self.emission_probs = np.random.rand(num_states, self.num_emissions)\n",
    "\n",
    "    def observation_to_indices(self, observation):\n",
    "        indices = []\n",
    "        for emission in observation:\n",
    "            if emission in self.emission_to_index_map:\n",
    "                indices.append(self.emission_to_index_map[emission])\n",
    "            else:\n",
    "                raise ValueError(f\"Unexpected emission '{emission}' found in observation.\")\n",
    "                \n",
    "        return indices\n"
   ]
  },
  {
   "cell_type": "code",
   "execution_count": 86,
   "id": "33758080",
   "metadata": {},
   "outputs": [],
   "source": [
    "def logsumexp(a):\n",
    "    \"\"\"Compute the log of the sum of exponentials of input elements.\"\"\"\n",
    "    a_max = np.max(a)\n",
    "    if a_max == -np.inf:\n",
    "        return -np.inf\n",
    "    return np.log(np.sum(np.exp(a - a_max))) + a_max\n",
    "\n",
    "def forward_pass(chmm, observation_indices):\n",
    "    num_states = chmm.num_states\n",
    "    T = len(observation_indices)\n",
    "\n",
    "    # Initialize forward probabilities matrix\n",
    "    forward_probs = np.full((T, num_states), -np.inf)  # Use -np.inf for log(0)\n",
    "    \n",
    "    # Initial state probabilities (uniform)\n",
    "    forward_probs[0, :] = np.log(1.0 / num_states)\n",
    "\n",
    "    # Forward pass\n",
    "    for t in range(1, T):\n",
    "        for j in range(num_states):\n",
    "            emission_idx = observation_indices[t]\n",
    "            log_emission_prob = np.log(chmm.emission_probs[j, emission_idx])\n",
    "            log_trans_probs = np.log(chmm.transition_probs[:, j])\n",
    "            forward_probs[t, j] = logsumexp(forward_probs[t - 1, :] + log_trans_probs) + log_emission_prob\n",
    "\n",
    "    return forward_probs\n",
    "\n",
    "def backward_pass(chmm, observation_indices):\n",
    "    num_states = chmm.num_states\n",
    "    T = len(observation_indices)\n",
    "\n",
    "    # Initialize backward probabilities matrix\n",
    "    backward_probs = np.full((T, num_states), -np.inf)  # Use -np.inf for log(0)\n",
    "    backward_probs[T - 1, :] = 0  # log(1)\n",
    "\n",
    "    # Backward pass\n",
    "    for t in range(T - 2, -1, -1):\n",
    "        for i in range(num_states):\n",
    "            emission_idx = observation_indices[t + 1]\n",
    "            log_emission_probs = np.log(chmm.emission_probs[:, emission_idx])\n",
    "            log_trans_probs = np.log(chmm.transition_probs[i, :])\n",
    "            backward_probs[t, i] = logsumexp(backward_probs[t + 1, :] + log_trans_probs + log_emission_probs)\n",
    "\n",
    "    return backward_probs\n",
    "\n",
    "def forward_backward_algorithm(chmm, observation):\n",
    "    observation_indices = chmm.observation_to_indices(observation)\n",
    "    forward_probs = forward_pass(chmm, observation_indices)\n",
    "    backward_probs = backward_pass(chmm, observation_indices)\n",
    "\n",
    "    # Compute state probabilities at each time step\n",
    "    state_probs = np.exp(forward_probs + backward_probs)\n",
    "    state_probs /= np.sum(state_probs, axis=1, keepdims=True)  # Normalize\n",
    "\n",
    "    return state_probs\n"
   ]
  },
  {
   "cell_type": "code",
   "execution_count": 87,
   "id": "9cdc19ac",
   "metadata": {},
   "outputs": [],
   "source": [
    "def calculate_nk(chmm, observation):\n",
    "    # Placeholder for calculating nk\n",
    "    return np.random.rand(chmm.num_states, chmm.num_emissions)  # Random counts\n",
    "\n",
    "def calculate_mk(chmm, observation, labels):\n",
    "    # Placeholder for calculating mk\n",
    "    return np.random.rand(chmm.num_states, chmm.num_emissions)  # Random counts\n"
   ]
  },
  {
   "cell_type": "code",
   "execution_count": 88,
   "id": "8627d10d",
   "metadata": {},
   "outputs": [],
   "source": [
    "def update_theta(chmm, nk, mk, learning_rate, epsilon=1e-8):\n",
    "    for i in range(chmm.num_states):\n",
    "        for j in range(chmm.num_emissions):\n",
    "            theta_k = max(chmm.emission_probs[i][j], epsilon)\n",
    "            gradient = -(mk[i][j] - nk[i][j]) / theta_k\n",
    "            chmm.emission_probs[i][j] -= learning_rate * gradient\n"
   ]
  },
  {
   "cell_type": "code",
   "execution_count": 89,
   "id": "deb18dae",
   "metadata": {},
   "outputs": [],
   "source": [
    "def train_chmm(chmm, observation_label_pairs, learning_rate, num_iterations, batch_size, epsilon=1e-8):\n",
    "    for iteration in range(num_iterations):\n",
    "        np.random.shuffle(observation_label_pairs)\n",
    "        for i in range(0, len(observation_label_pairs), batch_size):\n",
    "            batch = observation_label_pairs[i:i + batch_size]\n",
    "            update_parameters_from_batch(chmm, batch, learning_rate, epsilon)\n",
    "\n",
    "def update_parameters_from_batch(chmm, batch, learning_rate, epsilon=1e-8):\n",
    "    batch_nk = []\n",
    "    batch_mk = []\n",
    "\n",
    "    for observation, labels in batch:\n",
    "        observation_indices = chmm.observation_to_indices(observation)\n",
    "        nk = calculate_nk(chmm, observation_indices)\n",
    "        mk = calculate_mk(chmm, observation_indices, labels)\n",
    "        batch_nk.append(nk)\n",
    "        batch_mk.append(mk)\n",
    "\n",
    "    # Average nk and mk over the batch\n",
    "    avg_nk = np.mean(batch_nk, axis=0)\n",
    "    avg_mk = np.mean(batch_mk, axis=0)\n",
    "\n",
    "    # Update model parameters\n",
    "    for i in range(chmm.num_states):\n",
    "        for j in range(chmm.num_emissions):\n",
    "            theta_k = max(chmm.emission_probs[i][j], epsilon)\n",
    "            gradient = -(avg_mk[i][j] - avg_nk[i][j]) / theta_k\n",
    "            chmm.emission_probs[i][j] -= learning_rate * gradient\n"
   ]
  },
  {
   "cell_type": "code",
   "execution_count": 90,
   "id": "e0a7ed28",
   "metadata": {},
   "outputs": [],
   "source": [
    "def update_theta_sgd(chmm, avg_nk, avg_mk, learning_rate, epsilon=1e-8):\n",
    "    for i in range(chmm.num_states):\n",
    "        for j in range(chmm.num_emissions):\n",
    "            theta_k = max(chmm.emission_probs[i][j], epsilon)\n",
    "            gradient = -(avg_mk[i][j] - avg_nk[i][j]) / theta_k\n",
    "            chmm.emission_probs[i][j] -= learning_rate * gradient\n",
    "\n",
    "            \n",
    "def initialize_adam_parameters(chmm):\n",
    "    adam_params = {\n",
    "        \"m\": np.zeros((chmm.num_states, chmm.num_emissions)),\n",
    "        \"v\": np.zeros((chmm.num_states, chmm.num_emissions)),\n",
    "        \"t\": 0\n",
    "    }\n",
    "    return adam_params\n",
    "\n",
    "def update_theta_adam(chmm, avg_nk, avg_mk, learning_rate, adam_params, epsilon=1e-8, beta1=0.9, beta2=0.999):\n",
    "    adam_params[\"t\"] += 1\n",
    "    m = adam_params[\"m\"]\n",
    "    v = adam_params[\"v\"]\n",
    "    t = adam_params[\"t\"]\n",
    "    \n",
    "    for i in range(chmm.num_states):\n",
    "        for j in range(chmm.num_emissions):\n",
    "            theta_k = max(chmm.emission_probs[i][j], epsilon)\n",
    "            gradient = -(avg_mk[i][j] - avg_nk[i][j]) / theta_k\n",
    "            \n",
    "            # Update biased first moment estimate\n",
    "            m[i][j] = beta1 * m[i][j] + (1 - beta1) * gradient\n",
    "            \n",
    "            # Update biased second raw moment estimate\n",
    "            v[i][j] = beta2 * v[i][j] + (1 - beta2) * (gradient ** 2)\n",
    "            \n",
    "            # Compute bias-corrected first moment estimate\n",
    "            m_hat = m[i][j] / (1 - beta1 ** t)\n",
    "            \n",
    "            # Compute bias-corrected second raw moment estimate\n",
    "            v_hat = v[i][j] / (1 - beta2 ** t)\n",
    "            \n",
    "            # Update parameters\n",
    "            chmm.emission_probs[i][j] -= learning_rate * m_hat / (np.sqrt(v_hat) + epsilon)\n",
    "\n",
    "    adam_params[\"m\"] = m\n",
    "    adam_params[\"v\"] = v"
   ]
  },
  {
   "cell_type": "code",
   "execution_count": 91,
   "id": "a1834a71",
   "metadata": {},
   "outputs": [],
   "source": []
  },
  {
   "cell_type": "code",
   "execution_count": 92,
   "id": "800f9fc8",
   "metadata": {},
   "outputs": [],
   "source": []
  },
  {
   "cell_type": "code",
   "execution_count": 99,
   "id": "496964bb",
   "metadata": {},
   "outputs": [
    {
     "name": "stdout",
     "output_type": "stream",
     "text": [
      "{'E', 'M', 'N'}\n",
      "{0, 2}\n",
      "[([1, 0, 2], [0, 0, 2])]\n"
     ]
    }
   ],
   "source": []
  },
  {
   "cell_type": "code",
   "execution_count": 100,
   "id": "65fa56d7",
   "metadata": {},
   "outputs": [
    {
     "ename": "ValueError",
     "evalue": "Unexpected emission '1' found in observation.",
     "output_type": "error",
     "traceback": [
      "\u001b[0;31m---------------------------------------------------------------------------\u001b[0m",
      "\u001b[0;31mValueError\u001b[0m                                Traceback (most recent call last)",
      "Input \u001b[0;32mIn [100]\u001b[0m, in \u001b[0;36m<cell line: 13>\u001b[0;34m()\u001b[0m\n\u001b[1;32m     13\u001b[0m \u001b[38;5;28;01mfor\u001b[39;00m _ \u001b[38;5;129;01min\u001b[39;00m \u001b[38;5;28mrange\u001b[39m(num_iterations):\n\u001b[1;32m     14\u001b[0m     \u001b[38;5;28;01mfor\u001b[39;00m observation, labels \u001b[38;5;129;01min\u001b[39;00m formatted_training_data:\n\u001b[0;32m---> 15\u001b[0m         observation_indices \u001b[38;5;241m=\u001b[39m \u001b[43mchmm\u001b[49m\u001b[38;5;241;43m.\u001b[39;49m\u001b[43mobservation_to_indices\u001b[49m\u001b[43m(\u001b[49m\u001b[43mobservation\u001b[49m\u001b[43m)\u001b[49m\n\u001b[1;32m     16\u001b[0m         nk \u001b[38;5;241m=\u001b[39m calculate_nk(chmm, observation_indices)\n\u001b[1;32m     17\u001b[0m         mk \u001b[38;5;241m=\u001b[39m calculate_mk(chmm, observation_indices, labels)\n",
      "Input \u001b[0;32mIn [85]\u001b[0m, in \u001b[0;36mCHMM.observation_to_indices\u001b[0;34m(self, observation)\u001b[0m\n\u001b[1;32m     13\u001b[0m         indices\u001b[38;5;241m.\u001b[39mappend(\u001b[38;5;28mself\u001b[39m\u001b[38;5;241m.\u001b[39memission_to_index_map[emission])\n\u001b[1;32m     14\u001b[0m     \u001b[38;5;28;01melse\u001b[39;00m:\n\u001b[0;32m---> 15\u001b[0m         \u001b[38;5;28;01mraise\u001b[39;00m \u001b[38;5;167;01mValueError\u001b[39;00m(\u001b[38;5;124mf\u001b[39m\u001b[38;5;124m\"\u001b[39m\u001b[38;5;124mUnexpected emission \u001b[39m\u001b[38;5;124m'\u001b[39m\u001b[38;5;132;01m{\u001b[39;00memission\u001b[38;5;132;01m}\u001b[39;00m\u001b[38;5;124m'\u001b[39m\u001b[38;5;124m found in observation.\u001b[39m\u001b[38;5;124m\"\u001b[39m)\n\u001b[1;32m     17\u001b[0m \u001b[38;5;28;01mreturn\u001b[39;00m indices\n",
      "\u001b[0;31mValueError\u001b[0m: Unexpected emission '1' found in observation."
     ]
    }
   ],
   "source": []
  },
  {
   "cell_type": "code",
   "execution_count": null,
   "id": "1f41e8b9",
   "metadata": {},
   "outputs": [],
   "source": []
  }
 ],
 "metadata": {
  "kernelspec": {
   "display_name": "Python 3 (ipykernel)",
   "language": "python",
   "name": "python3"
  },
  "language_info": {
   "codemirror_mode": {
    "name": "ipython",
    "version": 3
   },
   "file_extension": ".py",
   "mimetype": "text/x-python",
   "name": "python",
   "nbconvert_exporter": "python",
   "pygments_lexer": "ipython3",
   "version": "3.9.12"
  }
 },
 "nbformat": 4,
 "nbformat_minor": 5
}
