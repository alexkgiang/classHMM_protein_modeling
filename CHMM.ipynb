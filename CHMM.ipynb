{
 "cells": [
  {
   "cell_type": "code",
   "execution_count": 37,
   "id": "fa4664f3",
   "metadata": {},
   "outputs": [],
   "source": [
    "import torch\n",
    "import numpy as np"
   ]
  },
  {
   "cell_type": "markdown",
   "id": "c5de9ba6",
   "metadata": {},
   "source": [
    "# Data Engineering\n",
    "\n",
    "Suppose we are given amino acid sequence s and class label sequence c. Let n be the length of both sequences. \n",
    "For simplicity, we assume there are 20 amino acids. We create a bijection mapping from each amino acid to [1, 20]. We map each amino acid sequence s to a n sized vector $s'\\in R^n$, where the $i^{th}$ position is its corresponding numerical mapping from its amino acid.\n",
    "\n",
    "In a similar fashion, we perform the same process for secondary structures. We assume there are two types of secondary structures alpha helix and beta sheet and optionally no secondary structure. We map each class label sequence c to a n sized vector $c' \\in R^n$, where the $i^{th}$ position is its corresponding numerical mapping from its class label."
   ]
  },
  {
   "cell_type": "code",
   "execution_count": 22,
   "id": "33758080",
   "metadata": {},
   "outputs": [],
   "source": [
    "def aa_to_vec(s):\n",
    "    amino_acids = list(\"AGILPVFWYDERHKSTCMNQ\")\n",
    "    amino_acids.sort()\n",
    "    aa_mapping = {}\n",
    "    for i, aa in enumerate(amino_acids):\n",
    "        aa_mapping[aa] = i + 1\n",
    "    return list(map(lambda aa: aa_mapping[aa], list(s)))\n",
    "        \n",
    "\n",
    "def ss_to_vec(c):\n",
    "    #TODO\n",
    "    return list(c)\n",
    "\n",
    "# shorthand aliases\n",
    "aa = lambda s: aa_to_vec(s)\n",
    "ss = lambda c: ss_to_vec(c)"
   ]
  },
  {
   "cell_type": "markdown",
   "id": "59143219",
   "metadata": {},
   "source": [
    "# Model Parameterization\n",
    "\n",
    "For notion, let $\\theta$ := hidden markov model parameters (state transition probabilities, symbol emission probabilities), and let $\\phi$ := class emission parameters.\n",
    "\n",
    "Our objective function attempts to find maximize the conditionally probability of obtaining class label sequence c given amino acid sequence s, hidden markov parameters $\\theta$, class emission parameters $\\phi$.\n",
    "\n",
    "The number of hidden states usually requires some expert insights. Here, we adopt the hidden markov model setup introduced in assignment two - which includes two hidden states A and B. Then, we have a 4 state transisition probabilities $(t_{aa}, t_{ab}, t_{ba}, t_{bb})$, 20 symbol emission probabilties for state A $(e_{a1}, ... , e_{a20})$, 20 symbol emission probabilties for state B $(e_{b1}, ... , e_{b20})$. Then, we have 44 parameters total for $\\theta$.\n",
    "\n",
    "\n",
    "In this setup, we also have 3 class emission probabilities for state A $(\\phi_{a1}, \\phi_{a2} , \\phi_{a3})$, 3 class emission probabilities for state B $(\\phi_{b1}, \\phi_{b2} , \\phi_{b3})$. \n",
    "\n",
    "For simplicity, we initalize these variables to a uniform distribution."
   ]
  },
  {
   "cell_type": "code",
   "execution_count": 11,
   "id": "8627d10d",
   "metadata": {},
   "outputs": [],
   "source": [
    "def init_theta():\n",
    "    return [1 / 44 for _ in range(44)]\n",
    "\n",
    "def init_phi():\n",
    "    return [1 / 6 for _ in range(6)]"
   ]
  },
  {
   "cell_type": "markdown",
   "id": "4ce450e6",
   "metadata": {},
   "source": [
    "# Gradient Calculations\n",
    "\n",
    "We can convert our objective function into a minimization problem by changing our objective into minimizing the negative log likelihood.\n",
    "\n",
    "$$\\hat{\\theta} = \\arg \\max_{\\theta} P(c | s, \\theta, \\phi) = \\frac{P(c, s | \\theta, \\phi)}{P(s | \\theta)}$$\n",
    "$$\\hat{\\theta} = \\arg \\min_{\\theta} -\\log(\\frac{P(c, s | \\theta, \\phi)}{P(s | \\theta)})$$\n",
    "\n",
    "We can calculate the gradient of this expression into terms that we know from forward-backward algorithms.\n",
    "\n",
    "$$\\frac{dL}{d\\theta_k} = -\\frac {m_k(c, s) - n_k(s)}{\\theta_k}$$\n",
    "\n",
    "$$n_k(s) := idk$$\n",
    "\n",
    "$$m_k(c, s) := idk$$"
   ]
  },
  {
   "cell_type": "code",
   "execution_count": 12,
   "id": "e0a7ed28",
   "metadata": {},
   "outputs": [],
   "source": [
    "def n_k(s):\n",
    "    #TODO\n",
    "    pass\n",
    "\n",
    "def m_k(c, s):\n",
    "    #TODO\n",
    "    pass\n",
    "\n",
    "def gradient(c, s, theta):\n",
    "    #TODO\n",
    "    pass\n"
   ]
  },
  {
   "cell_type": "markdown",
   "id": "245d9c6c",
   "metadata": {},
   "source": [
    "# Gradient Descent\n",
    "\n",
    "We use gradient descent to minimize our objective function.\n",
    "\n",
    "We repeat the following operation until convergence. $\\theta'=\\theta - \\alpha \\nabla L$. For simplicity, we fix our step size $\\alpha$."
   ]
  },
  {
   "cell_type": "code",
   "execution_count": null,
   "id": "800f9fc8",
   "metadata": {},
   "outputs": [],
   "source": [
    "def naive_gd(init_theta, step_size):\n",
    "    #TODO\n",
    "    pass"
   ]
  },
  {
   "cell_type": "markdown",
   "id": "6648d995",
   "metadata": {},
   "source": [
    "# Validation Results\n",
    "\n",
    "Since our dataset if limited, we approximate our validation error using k-cross-folds validation in particular we use LOOCV (leave-one-out-cross-validation). "
   ]
  },
  {
   "cell_type": "code",
   "execution_count": 10,
   "id": "65fa56d7",
   "metadata": {},
   "outputs": [],
   "source": [
    "def predict(theta, s):\n",
    "    #TODO\n",
    "    pass\n",
    "\n",
    "def error_est(s_data, c_data):\n",
    "    #TODO\n",
    "    pass"
   ]
  },
  {
   "cell_type": "markdown",
   "id": "bb09c604",
   "metadata": {},
   "source": [
    "# Workflow on Human Data"
   ]
  },
  {
   "cell_type": "code",
   "execution_count": null,
   "id": "1e01b210",
   "metadata": {},
   "outputs": [],
   "source": [
    "with open(\"HUMAN_training_data.txt\") as f:\n",
    "    content = f.read().split(\"\\n\")\n",
    "    s_seqs = []\n",
    "    c_seqs = []\n",
    "    for i in range(0, len(content), 2):\n",
    "        s_seqs.append(aa(content[i]))\n",
    "    for i in range(1, len(content), 2):\n",
    "        c_seqs.append(ss(content[i]))\n",
    "    \n",
    "    human_train = zip(s_seqs, c_seqs)\n",
    "    \n",
    "    \n",
    "        \n",
    "        \n",
    "        "
   ]
  }
 ],
 "metadata": {
  "kernelspec": {
   "display_name": "Python 3 (ipykernel)",
   "language": "python",
   "name": "python3"
  },
  "language_info": {
   "codemirror_mode": {
    "name": "ipython",
    "version": 3
   },
   "file_extension": ".py",
   "mimetype": "text/x-python",
   "name": "python",
   "nbconvert_exporter": "python",
   "pygments_lexer": "ipython3",
   "version": "3.9.12"
  }
 },
 "nbformat": 4,
 "nbformat_minor": 5
}
